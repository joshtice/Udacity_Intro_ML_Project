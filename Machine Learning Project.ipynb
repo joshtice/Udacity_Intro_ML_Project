{
 "cells": [
  {
   "cell_type": "markdown",
   "metadata": {},
   "source": [
    "# Identity Fraud from Enron Email and Financial Data \n",
    "Joshua Tice\n",
    "## Introduction  \n",
    "The goal of this project was to use a supervised machine learning algorithm to identify Enron employees who committed fraud based on the public Enron Email and Financial Dataset. In addition to the financial information for certain Enron employees, the original dataset contained myriad emails that were exchanged between potential 'persons of interest' (poi's). Even though the main text of the emails were not analyzed in this project, the extent of the data available made machine learning a particularly useful tool. Learning algorithms could identify patterns and relationships in high-dimensional data that were difficult for a human mind to discern and help automate certain aspects of the analysis.  \n",
    "## Dataset background and EDA\n",
    "Before discussing the exploratory analysis of the dataset, a series of libraries and modules were loaded that were used throughout the project."
   ]
  },
  {
   "cell_type": "code",
   "execution_count": 1,
   "metadata": {
    "collapsed": false
   },
   "outputs": [
    {
     "name": "stderr",
     "output_type": "stream",
     "text": [
      "/Users/joshuatice/anaconda/lib/python2.7/site-packages/sklearn/cross_validation.py:41: DeprecationWarning: This module was deprecated in version 0.18 in favor of the model_selection module into which all the refactored classes and functions are moved. Also note that the interface of the new CV iterators are different from that of this module. This module will be removed in 0.20.\n",
      "  \"This module will be removed in 0.20.\", DeprecationWarning)\n"
     ]
    }
   ],
   "source": [
    "#!/usr/bin/python\n",
    "\n",
    "# General imports\n",
    "from __future__ import division\n",
    "import matplotlib.pyplot as plt\n",
    "import numpy as np\n",
    "import pandas as pd\n",
    "import pickle\n",
    "import pprint\n",
    "import seaborn as sns\n",
    "import sys\n",
    "\n",
    "# Udacity module imports\n",
    "sys.path.append(\"../tools/\")\n",
    "from feature_format import featureFormat, targetFeatureSplit\n",
    "import tester\n",
    "from tester import dump_classifier_and_data\n",
    "from tester import test_classifier\n",
    "\n",
    "# Scikit-Learn imports\n",
    "from sklearn.feature_selection import SelectKBest\n",
    "from sklearn.metrics import classification_report\n",
    "from sklearn.metrics import f1_score, precision_score, recall_score\n",
    "from sklearn.metrics import make_scorer\n",
    "from sklearn.model_selection import train_test_split\n",
    "from sklearn.model_selection import GridSearchCV\n",
    "from sklearn.model_selection import RepeatedStratifiedKFold\n",
    "from sklearn.pipeline import Pipeline\n",
    "from sklearn.preprocessing import MinMaxScaler\n",
    "from sklearn.tree import DecisionTreeClassifier\n",
    "from sklearn.feature_selection import chi2\n",
    "from sklearn.svm import SVC"
   ]
  },
  {
   "cell_type": "markdown",
   "metadata": {},
   "source": [
    "The curated dataset was provided by Udacity as a pickle file, which was subsequently loaded into a Python dictionary with the following code."
   ]
  },
  {
   "cell_type": "code",
   "execution_count": 2,
   "metadata": {
    "collapsed": true
   },
   "outputs": [],
   "source": [
    "# Load the dictionary containing the dataset\n",
    "with open(\"final_project_dataset.pkl\", \"r\") as data_file:\n",
    "    data_dict = pickle.load(data_file)"
   ]
  },
  {
   "cell_type": "markdown",
   "metadata": {},
   "source": [
    "I ported the dictionary into a Pandas dataframe so that I could perform a preliminary exploratory data analysis. I started by viewing the features that were available as well as a sample of the datapoints."
   ]
  },
  {
   "cell_type": "code",
   "execution_count": 3,
   "metadata": {
    "collapsed": false
   },
   "outputs": [
    {
     "name": "stdout",
     "output_type": "stream",
     "text": [
      "<class 'pandas.core.frame.DataFrame'>\n",
      "Index: 146 entries, METTS MARK to GLISAN JR BEN F\n",
      "Data columns (total 21 columns):\n",
      "bonus                        146 non-null object\n",
      "deferral_payments            146 non-null object\n",
      "deferred_income              146 non-null object\n",
      "director_fees                146 non-null object\n",
      "email_address                146 non-null object\n",
      "exercised_stock_options      146 non-null object\n",
      "expenses                     146 non-null object\n",
      "from_messages                146 non-null object\n",
      "from_poi_to_this_person      146 non-null object\n",
      "from_this_person_to_poi      146 non-null object\n",
      "loan_advances                146 non-null object\n",
      "long_term_incentive          146 non-null object\n",
      "other                        146 non-null object\n",
      "poi                          146 non-null bool\n",
      "restricted_stock             146 non-null object\n",
      "restricted_stock_deferred    146 non-null object\n",
      "salary                       146 non-null object\n",
      "shared_receipt_with_poi      146 non-null object\n",
      "to_messages                  146 non-null object\n",
      "total_payments               146 non-null object\n",
      "total_stock_value            146 non-null object\n",
      "dtypes: bool(1), object(20)\n",
      "memory usage: 24.1+ KB\n",
      "None\n"
     ]
    },
    {
     "data": {
      "text/html": [
       "<div>\n",
       "<style>\n",
       "    .dataframe thead tr:only-child th {\n",
       "        text-align: right;\n",
       "    }\n",
       "\n",
       "    .dataframe thead th {\n",
       "        text-align: left;\n",
       "    }\n",
       "\n",
       "    .dataframe tbody tr th {\n",
       "        vertical-align: top;\n",
       "    }\n",
       "</style>\n",
       "<table border=\"1\" class=\"dataframe\">\n",
       "  <thead>\n",
       "    <tr style=\"text-align: right;\">\n",
       "      <th></th>\n",
       "      <th>bonus</th>\n",
       "      <th>deferral_payments</th>\n",
       "      <th>deferred_income</th>\n",
       "      <th>director_fees</th>\n",
       "      <th>email_address</th>\n",
       "      <th>exercised_stock_options</th>\n",
       "      <th>expenses</th>\n",
       "      <th>from_messages</th>\n",
       "      <th>from_poi_to_this_person</th>\n",
       "      <th>from_this_person_to_poi</th>\n",
       "      <th>...</th>\n",
       "      <th>long_term_incentive</th>\n",
       "      <th>other</th>\n",
       "      <th>poi</th>\n",
       "      <th>restricted_stock</th>\n",
       "      <th>restricted_stock_deferred</th>\n",
       "      <th>salary</th>\n",
       "      <th>shared_receipt_with_poi</th>\n",
       "      <th>to_messages</th>\n",
       "      <th>total_payments</th>\n",
       "      <th>total_stock_value</th>\n",
       "    </tr>\n",
       "  </thead>\n",
       "  <tbody>\n",
       "    <tr>\n",
       "      <th>METTS MARK</th>\n",
       "      <td>600000</td>\n",
       "      <td>NaN</td>\n",
       "      <td>NaN</td>\n",
       "      <td>NaN</td>\n",
       "      <td>mark.metts@enron.com</td>\n",
       "      <td>NaN</td>\n",
       "      <td>94299</td>\n",
       "      <td>29</td>\n",
       "      <td>38</td>\n",
       "      <td>1</td>\n",
       "      <td>...</td>\n",
       "      <td>NaN</td>\n",
       "      <td>1740</td>\n",
       "      <td>False</td>\n",
       "      <td>585062</td>\n",
       "      <td>NaN</td>\n",
       "      <td>365788</td>\n",
       "      <td>702</td>\n",
       "      <td>807</td>\n",
       "      <td>1061827</td>\n",
       "      <td>585062</td>\n",
       "    </tr>\n",
       "    <tr>\n",
       "      <th>BAXTER JOHN C</th>\n",
       "      <td>1200000</td>\n",
       "      <td>1295738</td>\n",
       "      <td>-1386055</td>\n",
       "      <td>NaN</td>\n",
       "      <td>NaN</td>\n",
       "      <td>6680544</td>\n",
       "      <td>11200</td>\n",
       "      <td>NaN</td>\n",
       "      <td>NaN</td>\n",
       "      <td>NaN</td>\n",
       "      <td>...</td>\n",
       "      <td>1586055</td>\n",
       "      <td>2660303</td>\n",
       "      <td>False</td>\n",
       "      <td>3942714</td>\n",
       "      <td>NaN</td>\n",
       "      <td>267102</td>\n",
       "      <td>NaN</td>\n",
       "      <td>NaN</td>\n",
       "      <td>5634343</td>\n",
       "      <td>10623258</td>\n",
       "    </tr>\n",
       "    <tr>\n",
       "      <th>ELLIOTT STEVEN</th>\n",
       "      <td>350000</td>\n",
       "      <td>NaN</td>\n",
       "      <td>-400729</td>\n",
       "      <td>NaN</td>\n",
       "      <td>steven.elliott@enron.com</td>\n",
       "      <td>4890344</td>\n",
       "      <td>78552</td>\n",
       "      <td>NaN</td>\n",
       "      <td>NaN</td>\n",
       "      <td>NaN</td>\n",
       "      <td>...</td>\n",
       "      <td>NaN</td>\n",
       "      <td>12961</td>\n",
       "      <td>False</td>\n",
       "      <td>1788391</td>\n",
       "      <td>NaN</td>\n",
       "      <td>170941</td>\n",
       "      <td>NaN</td>\n",
       "      <td>NaN</td>\n",
       "      <td>211725</td>\n",
       "      <td>6678735</td>\n",
       "    </tr>\n",
       "    <tr>\n",
       "      <th>CORDES WILLIAM R</th>\n",
       "      <td>NaN</td>\n",
       "      <td>NaN</td>\n",
       "      <td>NaN</td>\n",
       "      <td>NaN</td>\n",
       "      <td>bill.cordes@enron.com</td>\n",
       "      <td>651850</td>\n",
       "      <td>NaN</td>\n",
       "      <td>12</td>\n",
       "      <td>10</td>\n",
       "      <td>0</td>\n",
       "      <td>...</td>\n",
       "      <td>NaN</td>\n",
       "      <td>NaN</td>\n",
       "      <td>False</td>\n",
       "      <td>386335</td>\n",
       "      <td>NaN</td>\n",
       "      <td>NaN</td>\n",
       "      <td>58</td>\n",
       "      <td>764</td>\n",
       "      <td>NaN</td>\n",
       "      <td>1038185</td>\n",
       "    </tr>\n",
       "    <tr>\n",
       "      <th>HANNON KEVIN P</th>\n",
       "      <td>1500000</td>\n",
       "      <td>NaN</td>\n",
       "      <td>-3117011</td>\n",
       "      <td>NaN</td>\n",
       "      <td>kevin.hannon@enron.com</td>\n",
       "      <td>5538001</td>\n",
       "      <td>34039</td>\n",
       "      <td>32</td>\n",
       "      <td>32</td>\n",
       "      <td>21</td>\n",
       "      <td>...</td>\n",
       "      <td>1617011</td>\n",
       "      <td>11350</td>\n",
       "      <td>True</td>\n",
       "      <td>853064</td>\n",
       "      <td>NaN</td>\n",
       "      <td>243293</td>\n",
       "      <td>1035</td>\n",
       "      <td>1045</td>\n",
       "      <td>288682</td>\n",
       "      <td>6391065</td>\n",
       "    </tr>\n",
       "  </tbody>\n",
       "</table>\n",
       "<p>5 rows × 21 columns</p>\n",
       "</div>"
      ],
      "text/plain": [
       "                    bonus deferral_payments deferred_income director_fees  \\\n",
       "METTS MARK         600000               NaN             NaN           NaN   \n",
       "BAXTER JOHN C     1200000           1295738        -1386055           NaN   \n",
       "ELLIOTT STEVEN     350000               NaN         -400729           NaN   \n",
       "CORDES WILLIAM R      NaN               NaN             NaN           NaN   \n",
       "HANNON KEVIN P    1500000               NaN        -3117011           NaN   \n",
       "\n",
       "                             email_address exercised_stock_options expenses  \\\n",
       "METTS MARK            mark.metts@enron.com                     NaN    94299   \n",
       "BAXTER JOHN C                          NaN                 6680544    11200   \n",
       "ELLIOTT STEVEN    steven.elliott@enron.com                 4890344    78552   \n",
       "CORDES WILLIAM R     bill.cordes@enron.com                  651850      NaN   \n",
       "HANNON KEVIN P      kevin.hannon@enron.com                 5538001    34039   \n",
       "\n",
       "                 from_messages from_poi_to_this_person  \\\n",
       "METTS MARK                  29                      38   \n",
       "BAXTER JOHN C              NaN                     NaN   \n",
       "ELLIOTT STEVEN             NaN                     NaN   \n",
       "CORDES WILLIAM R            12                      10   \n",
       "HANNON KEVIN P              32                      32   \n",
       "\n",
       "                 from_this_person_to_poi        ...         \\\n",
       "METTS MARK                             1        ...          \n",
       "BAXTER JOHN C                        NaN        ...          \n",
       "ELLIOTT STEVEN                       NaN        ...          \n",
       "CORDES WILLIAM R                       0        ...          \n",
       "HANNON KEVIN P                        21        ...          \n",
       "\n",
       "                 long_term_incentive    other    poi  restricted_stock  \\\n",
       "METTS MARK                       NaN     1740  False            585062   \n",
       "BAXTER JOHN C                1586055  2660303  False           3942714   \n",
       "ELLIOTT STEVEN                   NaN    12961  False           1788391   \n",
       "CORDES WILLIAM R                 NaN      NaN  False            386335   \n",
       "HANNON KEVIN P               1617011    11350   True            853064   \n",
       "\n",
       "                 restricted_stock_deferred  salary shared_receipt_with_poi  \\\n",
       "METTS MARK                             NaN  365788                     702   \n",
       "BAXTER JOHN C                          NaN  267102                     NaN   \n",
       "ELLIOTT STEVEN                         NaN  170941                     NaN   \n",
       "CORDES WILLIAM R                       NaN     NaN                      58   \n",
       "HANNON KEVIN P                         NaN  243293                    1035   \n",
       "\n",
       "                 to_messages total_payments total_stock_value  \n",
       "METTS MARK               807        1061827            585062  \n",
       "BAXTER JOHN C            NaN        5634343          10623258  \n",
       "ELLIOTT STEVEN           NaN         211725           6678735  \n",
       "CORDES WILLIAM R         764            NaN           1038185  \n",
       "HANNON KEVIN P          1045         288682           6391065  \n",
       "\n",
       "[5 rows x 21 columns]"
      ]
     },
     "execution_count": 3,
     "metadata": {},
     "output_type": "execute_result"
    }
   ],
   "source": [
    "# Import data into dataframe for EDA\n",
    "df = pd.DataFrame.from_records(list(data_dict.values()))\n",
    "employees = pd.Series(list(data_dict.keys()))\n",
    "df.set_index(employees, inplace=True)\n",
    "\n",
    "# Basic EDA\n",
    "# Inspect features\n",
    "print(df.info())\n",
    "# Sample data at the head of the dataset\n",
    "df.head()"
   ]
  },
  {
   "cell_type": "markdown",
   "metadata": {},
   "source": [
    "I saw that most of the features contained mixed datatypes due to the presence of 'NaN' strings included for missing values. I subsequently replaced these values with the numpy respresentation for null values and re-printed the info for the dataset."
   ]
  },
  {
   "cell_type": "code",
   "execution_count": 4,
   "metadata": {
    "collapsed": false
   },
   "outputs": [
    {
     "name": "stdout",
     "output_type": "stream",
     "text": [
      "<class 'pandas.core.frame.DataFrame'>\n",
      "Index: 146 entries, METTS MARK to GLISAN JR BEN F\n",
      "Data columns (total 21 columns):\n",
      "bonus                        82 non-null float64\n",
      "deferral_payments            39 non-null float64\n",
      "deferred_income              49 non-null float64\n",
      "director_fees                17 non-null float64\n",
      "email_address                111 non-null object\n",
      "exercised_stock_options      102 non-null float64\n",
      "expenses                     95 non-null float64\n",
      "from_messages                86 non-null float64\n",
      "from_poi_to_this_person      86 non-null float64\n",
      "from_this_person_to_poi      86 non-null float64\n",
      "loan_advances                4 non-null float64\n",
      "long_term_incentive          66 non-null float64\n",
      "other                        93 non-null float64\n",
      "poi                          146 non-null bool\n",
      "restricted_stock             110 non-null float64\n",
      "restricted_stock_deferred    18 non-null float64\n",
      "salary                       95 non-null float64\n",
      "shared_receipt_with_poi      86 non-null float64\n",
      "to_messages                  86 non-null float64\n",
      "total_payments               125 non-null float64\n",
      "total_stock_value            126 non-null float64\n",
      "dtypes: bool(1), float64(19), object(1)\n",
      "memory usage: 24.1+ KB\n",
      "None\n"
     ]
    }
   ],
   "source": [
    "# Replace 'NaN' strings with Numpy nan representation\n",
    "df.replace('NaN', np.nan, inplace=True)\n",
    "print(df.info())"
   ]
  },
  {
   "cell_type": "markdown",
   "metadata": {},
   "source": [
    "The data had a mixture of financial features, features related to emails, and a classification. The 14 financial features were reported in units of US dollars:  \n",
    "* bonus\n",
    "* deferral payments\n",
    "* deferred income\n",
    "* director fees\n",
    "* exercised stock options\n",
    "* expenses\n",
    "* loan advances\n",
    "* long term incentive\n",
    "* other\n",
    "* restricted stock\n",
    "* restricted stock deferred\n",
    "* salary\n",
    "* total payments\n",
    "* total stock value  \n",
    "\n",
    "The 6 features related to emails were reported in units of counts (except email address, which was a string): \n",
    "\n",
    "* email address\n",
    "* from messages\n",
    "* from poi to this person\n",
    "* from this person to poi\n",
    "* shared receipt with poi\n",
    "* to messages  \n",
    "\n",
    "The classification feature (poi) was a boolean.\n",
    "\n",
    "I was interested in the allocation between the two different classes (poi and non-poi), because certain learning algorithms can be affected negatively by inbalanced classes."
   ]
  },
  {
   "cell_type": "code",
   "execution_count": 5,
   "metadata": {
    "collapsed": false
   },
   "outputs": [
    {
     "name": "stdout",
     "output_type": "stream",
     "text": [
      "Data points labelled 'POI': 18\n",
      "Data points labelled 'non-POI': 128\n",
      "Fraction of data points labelled 'POI': 0.12\n"
     ]
    }
   ],
   "source": [
    "# What is the allocation across classes (non-POI and POI)?\n",
    "count_poi = sum(df.poi)\n",
    "count_non_poi = sum(np.array(df.poi) == False)\n",
    "fraction_poi = count_poi / (count_poi + count_non_poi)\n",
    "print(\"Data points labelled 'POI': {}\".format(count_poi))\n",
    "print(\"Data points labelled 'non-POI': {}\".format(count_non_poi))\n",
    "print(\"Fraction of data points labelled 'POI': {:.2}\".format(fraction_poi))"
   ]
  },
  {
   "cell_type": "markdown",
   "metadata": {},
   "source": [
    "Seeing that the poi class composed only 12% of the data, I had to carefully adjust my learning algorithms and validation strategy later on to accommodate the imbalance.  \n",
    "\n",
    "Many of the features had a significant fraction of missing values. I re-sorted the features based on the number of 'nan's and also plotted a histogram to visualize the distribution of missing values in the dataset."
   ]
  },
  {
   "cell_type": "code",
   "execution_count": 6,
   "metadata": {
    "collapsed": false
   },
   "outputs": [
    {
     "name": "stdout",
     "output_type": "stream",
     "text": [
      "Feature | Number of missing values\n",
      "[('loan_advances', 142),\n",
      " ('director_fees', 129),\n",
      " ('restricted_stock_deferred', 128),\n",
      " ('deferral_payments', 107),\n",
      " ('deferred_income', 97),\n",
      " ('long_term_incentive', 80),\n",
      " ('bonus', 64),\n",
      " ('to_messages', 60),\n",
      " ('from_poi_to_this_person', 60),\n",
      " ('from_messages', 60),\n",
      " ('from_this_person_to_poi', 60),\n",
      " ('shared_receipt_with_poi', 60),\n",
      " ('other', 53),\n",
      " ('salary', 51),\n",
      " ('expenses', 51),\n",
      " ('exercised_stock_options', 44),\n",
      " ('restricted_stock', 36),\n",
      " ('email_address', 35),\n",
      " ('total_payments', 21),\n",
      " ('total_stock_value', 20),\n",
      " ('poi', 0)]\n"
     ]
    },
    {
     "data": {
      "image/png": "[encoded data removed]",
      "text/plain": [
       "<matplotlib.figure.Figure at 0x119d5ae90>"
      ]
     },
     "metadata": {},
     "output_type": "display_data"
    }
   ],
   "source": [
    "# Investigate missing values\n",
    "missing_value_dict = {}\n",
    "for col in df.columns:\n",
    "    missing_value_dict[col] = sum(df[col].isnull())\n",
    "print(\"Feature | Number of missing values\")\n",
    "pprint.pprint(sorted(missing_value_dict.items(), key=lambda x: x[1], reverse=True))\n",
    "\n",
    "sns.distplot(missing_value_dict.values(), bins=range(0, 150, 10), kde=False)\n",
    "plt.xlabel('Number of missing values')\n",
    "plt.ylabel('Frequency')\n",
    "plt.show()"
   ]
  },
  {
   "cell_type": "markdown",
   "metadata": {},
   "source": [
    "In some data analyses, a prevalance of missing values might have been a legitimate reason to remove a feature before implementing a learning algorithm. However, in this analysis, I knew that many persons of interest held positions at the top of the organization. Hence, features that might not have been relevant for an average employee (*e.g.*, director fees) might have been highly relevant to employees in upper management and consequently highly useful for the machine learning algorithm. Consequently, I did not remove any features based on missing values. In the above exploratory analysis, I represented missing values as 'nan's. However, when applying the learning algorithm, it made logical sense to represent the missing values as 0 USD or 0 counts. Code below provided by Udacity made this transformation during the data import process for machine learning.\n",
    "\n",
    "## Initial feature selection\n",
    "\n",
    "I did remove one feature at this stage - email address. I believed that the the email address of each individual was unlikely to contain any information relevant for machine learning. This feature was essentially a unique string identifier for each data point, and basically a redundant index. "
   ]
  },
  {
   "cell_type": "code",
   "execution_count": 7,
   "metadata": {
    "collapsed": true
   },
   "outputs": [],
   "source": [
    "# Task 1: Select what features you'll use.\n",
    "# features_list is a list of strings, each of which is a feature name.\n",
    "# The first feature must be \"poi\".\n",
    "\n",
    "feature_list = [\n",
    "    'poi',  \n",
    "    'bonus',\n",
    "    'deferral_payments',\n",
    "    'deferred_income',\n",
    "    'director_fees',\n",
    "    #'email_address',\n",
    "    'exercised_stock_options',\n",
    "    'expenses',\n",
    "    'from_messages',\n",
    "    'from_poi_to_this_person',\n",
    "    'from_this_person_to_poi',\n",
    "    'loan_advances',\n",
    "    'long_term_incentive',\n",
    "    'other',\n",
    "    'restricted_stock',\n",
    "    'restricted_stock_deferred',\n",
    "    'salary',\n",
    "    'shared_receipt_with_poi',\n",
    "    'to_messages',\n",
    "    'total_payments',\n",
    "    'total_stock_value'\n",
    "]  "
   ]
  },
  {
   "cell_type": "markdown",
   "metadata": {},
   "source": [
    "## Outlier removal\n",
    "\n",
    "Based on the \"Outliers\" lesson from Udacity's \"Intro to Machine Learning\" course, I knew that the data contained one outlier that needed to be removed - a data point corresponding to the cumulative total for each features. I did not remove any other outliers from the data because in this particular machine learning exercise, I was purposefully trying to identify individuals that could be seen as anomalies. In all likelihood, many of the outliers probably provided the most useful information for the algorithm."
   ]
  },
  {
   "cell_type": "code",
   "execution_count": 8,
   "metadata": {
    "collapsed": false
   },
   "outputs": [],
   "source": [
    "# Task 2: Remove outliers\n",
    "del(data_dict['TOTAL'])"
   ]
  },
  {
   "cell_type": "markdown",
   "metadata": {},
   "source": [
    "## Creation of new features\n",
    "\n",
    "I created two new features from the supplied data. The first, 'ratio_poi_from_messages', was the number of emails sent from persons of interest to an individual normalized by the total number of emails the individual received. I reasoned that if a person received a high volume of emails in general (*e.g.*, an administrative assistant), then that person might also have a high count of emails from poi's by coincidence. The fraction of emails from poi might be a better indicator of affiliation with a poi. Likewise, I normalized the number of emails each individual sent to poi's by the total number of emails sent ('ratio_poi_to_messages')."
   ]
  },
  {
   "cell_type": "code",
   "execution_count": 9,
   "metadata": {
    "collapsed": false
   },
   "outputs": [],
   "source": [
    "# Task 3: Create new feature(s)\n",
    "for key in data_dict.keys():\n",
    "    if (data_dict[key]['from_poi_to_this_person'] == 'NaN') or \\\n",
    "       (data_dict[key]['from_messages'] == 'NaN'):\n",
    "        data_dict[key]['ratio_poi_from_messages'] = 'NaN'\n",
    "    else:\n",
    "        data_dict[key]['ratio_poi_from_messages'] = \\\n",
    "        data_dict[key]['from_poi_to_this_person'] / \\\n",
    "        data_dict[key]['from_messages']\n",
    "    if (data_dict[key]['from_this_person_to_poi'] == 'NaN') or \\\n",
    "       (data_dict[key]['to_messages'] == 'NaN'):\n",
    "        data_dict[key]['ratio_poi_to_messages'] = 'NaN'\n",
    "    else:\n",
    "        data_dict[key]['ratio_poi_to_messages'] = \\\n",
    "        data_dict[key]['from_this_person_to_poi'] / \\\n",
    "        data_dict[key]['to_messages']\n",
    "feature_list.append('ratio_poi_from_messages')\n",
    "feature_list.append('ratio_poi_to_messages')"
   ]
  },
  {
   "cell_type": "markdown",
   "metadata": {},
   "source": [
    "## Selection of Learning Algorithm\n",
    "\n",
    "In this section, I applied multiple learning algorithms to the data with the ultimate goal of achieving greater than 0.3 precision and recall for the 'poi' class. Early on, it became clear that one of the most critical aspects of the exercise was to choose an appropriate validation strategy. After rectifying the validation method, finding the appropriate learning algorithm became simpler.\n",
    "\n",
    "### Initial validation method\n",
    "\n",
    "Validation is the process of assessing how well a learning algorithm will perform. One classic mistake would be to train the learner on all the data available, and then to test the model on the same data. This approach would provide an overly optimistic estimate of the learner's abilities. A less-biased approach for validation is to split the data into separate training and test sets. The learner is trained on the training data, and then evaluated on data it has never seen. Initially, I adopted this simple train/test split strategy to validate the learning algorithms. Following Udacity's code, I split off 30% of the data for testing, and used the remaining 70% for training."
   ]
  },
  {
   "cell_type": "code",
   "execution_count": 10,
   "metadata": {
    "collapsed": true
   },
   "outputs": [],
   "source": [
    "# Extract features and labels from dataset for local testing\n",
    "dataset = featureFormat(data_dict, feature_list, sort_keys=True)\n",
    "labels, features = targetFeatureSplit(dataset)\n",
    "\n",
    "# Initial test/train split validation method\n",
    "features_train, features_test, labels_train, labels_test = \\\n",
    "    train_test_split(features, labels, test_size=0.3, random_state=42)"
   ]
  },
  {
   "cell_type": "markdown",
   "metadata": {},
   "source": [
    "### Algorithm 1: Decision Trees \n",
    "\n",
    "The first algorithm I used was a simple decision tree. Decision trees have the advantage of yielding results that can be human interpretable, and they do not necessarily require feature scaling. I used sklearn's default parameters, except for the 'class_weight' parameter. Knowing that the classes were inherently unbalanced, I asked the algorithm to balance the weights in the training set such that 'poi' instances would have equal influence in the training."
   ]
  },
  {
   "cell_type": "code",
   "execution_count": 11,
   "metadata": {
    "collapsed": true
   },
   "outputs": [],
   "source": [
    "# Task 4: Try a varity of classifiers\n",
    "# Please name your classifier clf for easy export below.\n",
    "# Note that if you want to do PCA or other multi-stage operations,\n",
    "# you'll need to use Pipelines. For more info:\n",
    "# http://scikit-learn.org/stable/modules/pipeline.html\n",
    "\n",
    "# Set up learning algorithm\n",
    "clf = DecisionTreeClassifier(\n",
    "    criterion='gini', \n",
    "    splitter='best',\n",
    "    max_depth=None, \n",
    "    min_samples_split=2,\n",
    "    min_samples_leaf=1,\n",
    "    min_weight_fraction_leaf=0.0,\n",
    "    max_features= 'sqrt',\n",
    "    random_state=42,\n",
    "    max_leaf_nodes=None,\n",
    "    min_impurity_decrease=0.0,\n",
    "    min_impurity_split=None,\n",
    "    class_weight='balanced',\n",
    "    presort=False\n",
    ")\n",
    "\n",
    "# Train algorithm\n",
    "clf.fit(features_train, labels_train)\n",
    "pred = clf.predict(features_test)"
   ]
  },
  {
   "cell_type": "markdown",
   "metadata": {},
   "source": [
    "The two evaluation metrics of interest were the precision and recall of the test set. Precision is the fraction of true positives out of all cases classified positive, _i.e._:\n",
    "\n",
    "$$\\text{precision} = \\frac{\\text{true positives}}{\\text{true positives} + \\text{false positives}}$$\n",
    "\n",
    "Recall is the fraction of true positives out of all factually positive cases, _i.e._:\n",
    "\n",
    "$$\\text{precision} = \\frac{\\text{true positives}}{\\text{true positives} + \\text{false negatives}}$$\n",
    "\n",
    "The classification report I used also output the F1 scoring metric, which output a harmonic average of both precision and recall:\n",
    "\n",
    "$${\\displaystyle F_{1}=2\\cdot {\\frac {1}{{\\tfrac {1}{\\mathrm {precision} }}+{\\tfrac {1}{\\mathrm {recall} }}}}=2\\cdot {\\frac {\\mathrm {precision} \\cdot \\mathrm {recall} }{\\mathrm {precision} +\\mathrm {recall} }}}$$"
   ]
  },
  {
   "cell_type": "code",
   "execution_count": 12,
   "metadata": {
    "collapsed": false
   },
   "outputs": [
    {
     "name": "stdout",
     "output_type": "stream",
     "text": [
      "             precision    recall  f1-score   support\n",
      "\n",
      "    non-poi       0.90      0.97      0.94        39\n",
      "        poi       0.50      0.20      0.29         5\n",
      "\n",
      "avg / total       0.86      0.89      0.86        44\n",
      "\n"
     ]
    }
   ],
   "source": [
    "# Run report\n",
    "print(classification_report(labels_test, pred, target_names=['non-poi', 'poi']))"
   ]
  },
  {
   "cell_type": "markdown",
   "metadata": {},
   "source": [
    "The initial algorithm training managed to accomplish a precision of 0.50 and a recall of 0.20, which seemed optimistic. However, after experimentng with the code some more, I observed that the random state I assigned to the splitting code could drastically alter the outcome of the validation step.  "
   ]
  },
  {
   "cell_type": "code",
   "execution_count": 13,
   "metadata": {
    "collapsed": false
   },
   "outputs": [
    {
     "name": "stdout",
     "output_type": "stream",
     "text": [
      "Test/train random state: 3\n",
      "             precision    recall  f1-score   support\n",
      "\n",
      "    non-poi       0.89      0.92      0.91        37\n",
      "        poi       0.50      0.43      0.46         7\n",
      "\n",
      "avg / total       0.83      0.84      0.84        44\n",
      "\n",
      "Test/train random state: 4\n",
      "             precision    recall  f1-score   support\n",
      "\n",
      "    non-poi       0.78      0.82      0.80        34\n",
      "        poi       0.25      0.20      0.22        10\n",
      "\n",
      "avg / total       0.66      0.68      0.67        44\n",
      "\n",
      "Test/train random state: 5\n",
      "             precision    recall  f1-score   support\n",
      "\n",
      "    non-poi       0.83      0.92      0.87        37\n",
      "        poi       0.00      0.00      0.00         7\n",
      "\n",
      "avg / total       0.70      0.77      0.73        44\n",
      "\n"
     ]
    }
   ],
   "source": [
    "# Try three different splits on the data, train the algorithm, and output results\n",
    "for i in range(3, 6):\n",
    "    features_train, features_test, labels_train, labels_test = \\\n",
    "    train_test_split(features, labels, test_size=0.3, random_state=i)\n",
    "    clf.fit(features_train, labels_train)\n",
    "    pred = clf.predict(features_test)\n",
    "    print('Test/train random state: {}'.format(i))\n",
    "    print(classification_report(labels_test, pred, target_names=['non-poi', 'poi']))"
   ]
  },
  {
   "cell_type": "markdown",
   "metadata": {},
   "source": [
    "One random state could lead to a value of over 0.4 for both precision and recall for the poi class, while another could lead to a value of 0.0 for both. The variability in the results was probably due to several \n",
    "\n",
    "### Updated validation method\n",
    "\n",
    "I investigated other approaches in sklearn's user documentation, and I also inspected the validation code in Udacity's tester.py file. Initially, I attempted to bundle the core of Udacity's code into a custom validation method. However, the code was overly slow, perhaps given the number of loops it utilized. I decided to use sklearn's Repeated Stratified K-fold cross-validation class. Ultimately, this validation scheme emulated many of the key attributes of Udacity's code. It (i) stratified the data, assuring that a balanced number of non-poi and poi data points were in both the training and testing subsets, (ii) performed a k-fold cross-validation, which averaged error estimation over k number of validation trials, and (iii) allowed me to further average the results over a given number of cross-validation repeats, thus improving the robustness of the precision and recall estimates. I chose to do 10-fold cross-validation, in line with Udacity's testing code, and I used 100 repeats to balance robustness with processing time."
   ]
  },
  {
   "cell_type": "code",
   "execution_count": 14,
   "metadata": {
    "collapsed": true
   },
   "outputs": [],
   "source": [
    "# Task 5: Tune your classifier to achieve better than .3 precision and recall\n",
    "# using our testing script. Check the tester.py script in the final project\n",
    "# folder for details on the evaluation method, especially the test_classifier\n",
    "# function. Because of the small size of the dataset, the script uses\n",
    "# stratified shuffle split cross validation. For more info:\n",
    "# http://scikit-learn.org/stable/modules/generated/sklearn.cross_validation.StratifiedShuffleSplit.html\n",
    "\n",
    "# Define validation method\n",
    "cv = RepeatedStratifiedKFold(n_splits=10, n_repeats=100, random_state=42)"
   ]
  },
  {
   "cell_type": "markdown",
   "metadata": {},
   "source": [
    "### Parameter tuning\n",
    "\n",
    "In tandem, I also adjusted my code so that I could test several combinations of parameters in my learning algorithm using a grid search. SkLearn's GridSearchCV algorithm requires a scoring dictionary to define the metrics for output. I instantiated precision and recall scoring methods, purposefully setting the 'average' parameter to 'binary' such that the scorers only considered the positively labelled class, _i.e._, the poi class. The grid search cross-validation approach only uses only a single metric to find optimal hyperparameters, however, so I also instantiated an F1 scoring method."
   ]
  },
  {
   "cell_type": "code",
   "execution_count": 15,
   "metadata": {
    "collapsed": true
   },
   "outputs": [],
   "source": [
    "# Scoring metrics\n",
    "precision_scorer = make_scorer(precision_score, average='binary', pos_label=1)\n",
    "recall_scorer = make_scorer(recall_score, average='binary', pos_label=1)\n",
    "f1_scorer = make_scorer(f1_score, average='binary', pos_label=1)\n",
    "\n",
    "scoring_dict = {\n",
    "    'precision': precision_scorer,\n",
    "    'recall': recall_scorer,\n",
    "    'f1': f1_scorer\n",
    "}"
   ]
  },
  {
   "cell_type": "markdown",
   "metadata": {},
   "source": [
    "I re-instantiated the decision tree algorithm, and I decided to tune the 'max_depth' and 'max_features' parameters. I purposefully interrogated small values for both of these parameters, knowing that decision trees have a tendency to overfit if they are allowed to grow excessively or if they are allowed to use too many features."
   ]
  },
  {
   "cell_type": "code",
   "execution_count": 16,
   "metadata": {
    "collapsed": false
   },
   "outputs": [
    {
     "name": "stderr",
     "output_type": "stream",
     "text": [
      "/Users/joshuatice/anaconda/lib/python2.7/site-packages/sklearn/metrics/classification.py:1135: UndefinedMetricWarning: Precision is ill-defined and being set to 0.0 due to no predicted samples.\n",
      "  'precision', 'predicted', average, warn_for)\n",
      "/Users/joshuatice/anaconda/lib/python2.7/site-packages/sklearn/metrics/classification.py:1135: UndefinedMetricWarning: F-score is ill-defined and being set to 0.0 due to no predicted samples.\n",
      "  'precision', 'predicted', average, warn_for)\n"
     ]
    },
    {
     "name": "stdout",
     "output_type": "stream",
     "text": [
      "Best parameters {'max_features': 4, 'max_depth': 3}\n",
      "Precision: 0.383802827381\n",
      "Recall: 0.599930555556\n",
      "F1 score 0.44\n"
     ]
    }
   ],
   "source": [
    "tree = DecisionTreeClassifier(\n",
    "    criterion='gini', \n",
    "    splitter='best',\n",
    "    max_depth=None, \n",
    "    min_samples_split=2,\n",
    "    min_samples_leaf=1,\n",
    "    min_weight_fraction_leaf=0.0,\n",
    "    max_features= 'sqrt',\n",
    "    random_state=42,\n",
    "    max_leaf_nodes=None,\n",
    "    min_impurity_decrease=0.0,\n",
    "    min_impurity_split=None,\n",
    "    class_weight='balanced',\n",
    "    presort=False\n",
    ")\n",
    "\n",
    "# Set hyperparameter tuning space\n",
    "param_grid = [\n",
    "    {\n",
    "        'max_depth': range(2, 5),\n",
    "        'max_features': range(3, 6),\n",
    "    }\n",
    "]\n",
    "\n",
    "# Perform grid search optimization\n",
    "clf = GridSearchCV(tree, param_grid=param_grid, scoring=scoring_dict, cv=cv, refit='f1')\n",
    "clf.fit(features, labels)\n",
    "\n",
    "# Output results for best algorithm hyperparameters\n",
    "print(\"Best parameters {}\".format(clf.best_params_))\n",
    "print(\"Precision: {}\".format(clf.cv_results_['mean_test_precision'][clf.best_index_]))\n",
    "print(\"Recall: {}\".format(clf.cv_results_['mean_test_recall'][clf.best_index_]))\n",
    "print(\"F1 score {:.2}\".format(clf.best_score_))"
   ]
  },
  {
   "cell_type": "markdown",
   "metadata": {},
   "source": [
    "The outcome appeared to be successful when the number of features was set to 4 and the maximum depth of the tree was 3. To check against Udacity's standard, I ran the test_classifier method provided by Udacity with my optimized learner."
   ]
  },
  {
   "cell_type": "code",
   "execution_count": 17,
   "metadata": {
    "collapsed": false
   },
   "outputs": [
    {
     "name": "stdout",
     "output_type": "stream",
     "text": [
      "DecisionTreeClassifier(class_weight='balanced', criterion='gini', max_depth=3,\n",
      "            max_features=4, max_leaf_nodes=None, min_impurity_decrease=0.0,\n",
      "            min_impurity_split=None, min_samples_leaf=1,\n",
      "            min_samples_split=2, min_weight_fraction_leaf=0.0,\n",
      "            presort=False, random_state=42, splitter='best')\n",
      "\tAccuracy: 0.81687\tPrecision: 0.38525\tRecall: 0.62700\tF1: 0.47726\tF2: 0.55709\n",
      "\tTotal predictions: 15000\tTrue positives: 1254\tFalse positives: 2001\tFalse negatives:  746\tTrue negatives: 10999\n",
      "\n"
     ]
    }
   ],
   "source": [
    "test_classifier(clf.best_estimator_, data_dict, feature_list=feature_list, folds = 1000)"
   ]
  },
  {
   "cell_type": "markdown",
   "metadata": {},
   "source": [
    "Udacity's cross-validation yielded a result similar to my cross-validation output, with both precision and recall of the 'poi' class above 0.3.  \n",
    "\n",
    "### Algorithm 2: Support vector classifiers  \n",
    "\n",
    "Although the decision tree algorithm was successful, I wanted to try one other learning algorithm to see if I could surpass the decision tree performance. I decided to try a support vector classifier (SVC). To set up the algorithm, I had to implement a couple of pre-processing steps. The first step was to scale the features. Each bifurcation of a decision tree evaluates only one feature of the feature set. Hence, decision trees do not require feature scaling. However, SVCs are optimizing boundaries between vectors that contain information from all features. Consequently, if the features are not scaled, then features with large values will also be more influential on the boundary. The second pre-processing step was a feature selection algorithm. The decision tree algorithm had feature selection built in, but the SVC did not have an inherent method for finding the most important features. I predicted the algorithm would overfit if it had the option to use all the features available, so I implemented a 'select k best' feature selection method upstream of the learner. For the SVC learner, I kept most of the default parameters settings, but I did set the 'class_weight' parameter to 'balanced'. The scaling step, the feature selection step, and the learner were combined together into a pipeline. Finally, I implemented a grid search to tune two parameters of the pipeline - the number of features selected ('k'), and the allowance for misclassification in the SVC ('C'). "
   ]
  },
  {
   "cell_type": "code",
   "execution_count": 22,
   "metadata": {
    "collapsed": false
   },
   "outputs": [
    {
     "name": "stdout",
     "output_type": "stream",
     "text": [
      "Best parameters {'feature_selection__k': 4, 'classifier__C': 100}\n",
      "Precision: 0.280737562206\n",
      "Recall: 0.685694444444\n",
      "F1 score 0.38\n"
     ]
    }
   ],
   "source": [
    "# Set up learning algorithm\n",
    "\n",
    "# Define pipeline components\n",
    "scaler = MinMaxScaler()\n",
    "feature_selection = SelectKBest(score_func=chi2)\n",
    "classifier = SVC(\n",
    "    C=1.0, \n",
    "    kernel='rbf', \n",
    "    degree=3, \n",
    "    gamma='auto', \n",
    "    coef0=0.0, \n",
    "    shrinking=True, \n",
    "    probability=False, \n",
    "    tol=0.001, \n",
    "    cache_size=200, \n",
    "    class_weight='balanced', \n",
    "    verbose=False, \n",
    "    max_iter=-1, \n",
    "    decision_function_shape='ovr', \n",
    "    random_state=42\n",
    ")\n",
    "\n",
    "# Define pipeline\n",
    "pipe = Pipeline([\n",
    "    ('scaler', scaler),\n",
    "    ('feature_selection', feature_selection),\n",
    "    ('classifier', classifier)\n",
    "])\n",
    "\n",
    "# Set hyperparameter tuning space \n",
    "param_grid = [\n",
    "    {\n",
    "        'feature_selection__k': range(3, 10),\n",
    "        'classifier__C': [10, 100, 1000]\n",
    "    }\n",
    "]\n",
    "\n",
    "# Perform grid search optimization\n",
    "clf = GridSearchCV(pipe, param_grid=param_grid, scoring=scoring_dict, cv=cv, refit='f1')\n",
    "clf.fit(features, labels)\n",
    "\n",
    "# Output results for best algorithm hyperparameters\n",
    "print(\"Best parameters {}\".format(clf.best_params_))\n",
    "print(\"Precision: {}\".format(clf.cv_results_['mean_test_precision'][clf.best_index_]))\n",
    "print(\"Recall: {}\".format(clf.cv_results_['mean_test_recall'][clf.best_index_]))\n",
    "print(\"F1 score {:.2}\".format(clf.best_score_))"
   ]
  },
  {
   "cell_type": "markdown",
   "metadata": {},
   "source": [
    "After the initial grid search optimization, the SVC still did not surpass a value of 0.3 for precision, although recall was above the threshold. I noticed that the optimal number of features happened to be four, which was on the lower end of the scale that I chose. From above, I knew that the decision tree algorithm also performed best when using a small number of features - in that case, also four. I wanted to explore the results of the pipeline grid optimization to see if I could identify any trends with the feature selection step. Was a small number of features systemically best for the algorithm? To investigate, I plotted precision and recall as functions of the number of features used by the SVC. I did this for each value of C."
   ]
  },
  {
   "cell_type": "code",
   "execution_count": 23,
   "metadata": {
    "collapsed": false
   },
   "outputs": [
    {
     "data": {
      "image/png": "[encoded data removed]",
      "text/plain": [
       "<matplotlib.figure.Figure at 0x119e89b50>"
      ]
     },
     "metadata": {},
     "output_type": "display_data"
    },
    {
     "data": {
      "image/png": "[encoded data removed]",
      "text/plain": [
       "<matplotlib.figure.Figure at 0x11cf81050>"
      ]
     },
     "metadata": {},
     "output_type": "display_data"
    },
    {
     "data": {
      "image/png": "[encoded data removed]",
      "text/plain": [
       "<matplotlib.figure.Figure at 0x11e0d2bd0>"
      ]
     },
     "metadata": {},
     "output_type": "display_data"
    }
   ],
   "source": [
    "precision_scores = clf.cv_results_['mean_test_precision'].reshape(3, 7)\n",
    "recall_scores = clf.cv_results_['mean_test_recall'].reshape(3, 7)\n",
    "\n",
    "for i in range(3):\n",
    "    plt.plot(range(3, 10), precision_scores[i], label='Precision')\n",
    "    plt.plot(range(3, 10), recall_scores[i], label='Recall')\n",
    "    plt.title(\"SVC C Parameter: {}\".format(10**(i+1)), fontsize=16)\n",
    "    plt.xlabel(\"Number of features\")\n",
    "    plt.ylabel(\"Scores\")\n",
    "    plt.legend()\n",
    "    plt.show()"
   ]
  },
  {
   "cell_type": "markdown",
   "metadata": {},
   "source": [
    "The graphs showed that the performance of the SVC (when considering recall) spiked dramatically when four features were chosen. When more than four features were chosen, the performance dwindled steadily. I concluded that I should keep the feature selection algorithm limited to four features. I was curious which features the algorithm was choosing as the most significant, and I wondered if these features were consistant regardless of the number of features allowed in the algorithm. I re-ran the feature selection algorithm separate from the pipeline and listed the features for k = 4, 5, and 6."
   ]
  },
  {
   "cell_type": "code",
   "execution_count": 24,
   "metadata": {
    "collapsed": false
   },
   "outputs": [
    {
     "name": "stdout",
     "output_type": "stream",
     "text": [
      "Top features for k=4:\n",
      "[('bonus', 5.1933492599908826),\n",
      " ('total_stock_value', 1.4892171166615551),\n",
      " ('loan_advances', 0.34172579360229516),\n",
      " ('exercised_stock_options', 0.058560878398035338)]\n",
      "Top features for k=5:\n",
      "[('total_stock_value', 6.9274771054647131),\n",
      " ('bonus', 5.1933492599908826),\n",
      " ('salary', 1.4892171166615551),\n",
      " ('loan_advances', 0.34172579360229516),\n",
      " ('exercised_stock_options', 0.058560878398035338)]\n",
      "Top features for k=6:\n",
      "[('total_payments', 6.9274771054647131),\n",
      " ('bonus', 5.1933492599908826),\n",
      " ('total_stock_value', 1.525656574023559),\n",
      " ('salary', 1.4892171166615551),\n",
      " ('loan_advances', 0.34172579360229516),\n",
      " ('exercised_stock_options', 0.058560878398035338)]\n"
     ]
    }
   ],
   "source": [
    "# Which features are helping the most?\n",
    "\n",
    "# Define pipeline elements\n",
    "scaler = MinMaxScaler()\n",
    "X = scaler.fit_transform(features)\n",
    "\n",
    "for i in range(4, 7):\n",
    "    feature_selection = SelectKBest(score_func=chi2, k=i)\n",
    "    feature_selection.fit(X, labels)\n",
    "    mask = feature_selection.get_support()\n",
    "    ranks = dict(zip(np.array(feature_list)[1:][mask], feature_selection.scores_))\n",
    "    print(\"Top features for k={}:\".format(i))\n",
    "    pprint.pprint(sorted(ranks.items(), key=lambda x: x[1], reverse=True))"
   ]
  },
  {
   "cell_type": "markdown",
   "metadata": {},
   "source": [
    "The top features were consistently financial features that I would expect to be inflated for individuals with significant control in the company (_e.g._, features related to stock). Interestingly, none of the email features were selected by the algorithm. I wondered if I could improve the peformance of the algorithm by forcing it to consider the features related to emails in addition to the most significant features related to financial information. I manually tried different combinations of features. I limited the number of features to four, and I iterated through different combinations of two financial features with two email features. When I selected the two features related to stock as the financial features and the two initial features related to email, I was able to surpass the requirements for precision and recall using Udacity's scoring code."
   ]
  },
  {
   "cell_type": "code",
   "execution_count": 25,
   "metadata": {
    "collapsed": false
   },
   "outputs": [
    {
     "name": "stdout",
     "output_type": "stream",
     "text": [
      "Pipeline(memory=None,\n",
      "     steps=[('scaler', MinMaxScaler(copy=True, feature_range=(0, 1))), ('classifier', SVC(C=100, cache_size=200, class_weight='balanced', coef0=0.0,\n",
      "  decision_function_shape='ovr', degree=3, gamma='auto', kernel='rbf',\n",
      "  max_iter=-1, probability=False, random_state=42, shrinking=True,\n",
      "  tol=0.001, verbose=False))])\n",
      "\tAccuracy: 0.78515\tPrecision: 0.34445\tRecall: 0.43900\tF1: 0.38602\tF2: 0.41615\n",
      "\tTotal predictions: 13000\tTrue positives:  878\tFalse positives: 1671\tFalse negatives: 1122\tTrue negatives: 9329\n",
      "\n"
     ]
    }
   ],
   "source": [
    "feature_list_test = [\n",
    "    'poi', \n",
    "    #'bonus', \n",
    "    'exercised_stock_options', \n",
    "    #'loan_advances', \n",
    "    'total_stock_value',\n",
    "    'from_poi_to_this_person',\n",
    "    'from_this_person_to_poi'\n",
    "    #'ratio_poi_from_messages',\n",
    "    #'ratio_poi_to_messages'\n",
    "]\n",
    "    \n",
    "# Extract features and labels from dataset for local testing\n",
    "dataset_test = featureFormat(data_dict, feature_list, sort_keys=True)\n",
    "labels_test, features_test = targetFeatureSplit(dataset_test)\n",
    "\n",
    "# Define pipeline\n",
    "scaler = MinMaxScaler()\n",
    "classifier = SVC(\n",
    "    C=100, \n",
    "    kernel='rbf', \n",
    "    degree=3, \n",
    "    gamma='auto', \n",
    "    coef0=0.0, \n",
    "    shrinking=True, \n",
    "    probability=False, \n",
    "    tol=0.001, \n",
    "    cache_size=200, \n",
    "    class_weight='balanced', \n",
    "    verbose=False, \n",
    "    max_iter=-1, \n",
    "    decision_function_shape='ovr', \n",
    "    random_state=42\n",
    ")\n",
    "\n",
    "# Define pipeline\n",
    "clf_test = Pipeline([\n",
    "    ('scaler', scaler),\n",
    "    ('classifier', classifier)\n",
    "])\n",
    "\n",
    "test_classifier(clf_test, data_dict, feature_list=feature_list_test, folds = 1000)"
   ]
  },
  {
   "cell_type": "markdown",
   "metadata": {},
   "source": [
    "## Conclusion\n",
    "\n",
    "I found it interesting that recall was consistently higher than precision in both the algorithms I implemented. I surmise that in classification problems where the goal is to identify outliers, it will always be easier to capture all the outliers rather than to assure the purity (_i.e._, precision) of the positive class. Comparing the two algorithms that I ran, I was able to achieve higher precision and recall with the decision tree, so I chose this as my submission for evaluation. The 'poi_id.py' file contains a streamlined version of this analysis. It contains the initial features selection, creation of new features, outlier removal, and construction of the decision tree learner with the optimal parameters identified above. The dataset, feature list, and classifier can also be exported with the code below."
   ]
  },
  {
   "cell_type": "code",
   "execution_count": null,
   "metadata": {
    "collapsed": true
   },
   "outputs": [],
   "source": [
    "# Task 6: Dump your classifier, dataset, and features_list so anyone can\n",
    "# check your results. You do not need to change anything below, but make sure\n",
    "# that the version of poi_id.py that you submit can be run on its own and\n",
    "# generates the necessary .pkl files for validating your results.\n",
    "\n",
    "clf = DecisionTreeClassifier(\n",
    "    criterion='gini', \n",
    "    splitter='best',\n",
    "    max_depth=3, \n",
    "    min_samples_split=2,\n",
    "    min_samples_leaf=1,\n",
    "    min_weight_fraction_leaf=0.0,\n",
    "    max_features= 4,\n",
    "    random_state=42,\n",
    "    max_leaf_nodes=None,\n",
    "    min_impurity_decrease=0.0,\n",
    "    min_impurity_split=None,\n",
    "    class_weight='balanced',\n",
    "    presort=False\n",
    ")\n",
    "\n",
    "dump_classifier_and_data(clf, dataset, feature_list)"
   ]
  }
 ],
 "metadata": {
  "kernelspec": {
   "display_name": "Python [conda root]",
   "language": "python",
   "name": "conda-root-py"
  },
  "language_info": {
   "codemirror_mode": {
    "name": "ipython",
    "version": 2
   },
   "file_extension": ".py",
   "mimetype": "text/x-python",
   "name": "python",
   "nbconvert_exporter": "python",
   "pygments_lexer": "ipython2",
   "version": "2.7.13"
  }
 },
 "nbformat": 4,
 "nbformat_minor": 2
}
